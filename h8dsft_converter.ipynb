{
  "nbformat": 4,
  "nbformat_minor": 0,
  "metadata": {
    "colab": {
      "provenance": []
    },
    "kernelspec": {
      "name": "python3",
      "display_name": "Python 3"
    },
    "language_info": {
      "name": "python"
    }
  },
  "cells": [
    {
      "cell_type": "code",
      "execution_count": 2,
      "metadata": {
        "colab": {
          "base_uri": "https://localhost:8080/"
        },
        "id": "U9F10nXyKfbR",
        "outputId": "59f9abaa-5df9-479c-df50-ecee4c533c9c"
      },
      "outputs": [
        {
          "output_type": "stream",
          "name": "stdout",
          "text": [
            "327 °C\n"
          ]
        }
      ],
      "source": [
        "def konversi_kelvin_celcius (kelvin):\n",
        "  #rumus kelvin convert ke celcius\n",
        "  celcius = kelvin - 273\n",
        "  print(celcius, '°C')\n",
        "    \n",
        "konversi_kelvin_celcius(600)"
      ]
    },
    {
      "cell_type": "code",
      "source": [
        "def konversi_celcius_kelvin(celcius):\n",
        "  #rumus celcius convert ke kelvin\n",
        "  kelvin = celcius + 273\n",
        "  print(kelvin,   'K')\n",
        "\n",
        "konversi_celcius_kelvin(327)"
      ],
      "metadata": {
        "colab": {
          "base_uri": "https://localhost:8080/"
        },
        "id": "W7Lb3exuLzLy",
        "outputId": "dd5eb749-c593-471f-aae2-39041c1015a2"
      },
      "execution_count": 3,
      "outputs": [
        {
          "output_type": "stream",
          "name": "stdout",
          "text": [
            "600 K\n"
          ]
        }
      ]
    },
    {
      "cell_type": "code",
      "source": [
        "def konversi_suhu_fahrenheit(mode, suhu):\n",
        "  if mode == 'kelvin':\n",
        "    #rumus dari kelvin ke fahrenheint\n",
        "    hasil = (9/5 * suhu) + 32\n",
        "    print('hasil kelvin: ', hasil)\n",
        "  elif mode == 'celcius':\n",
        "    #rumus dari kelvin ke fahrenheint\n",
        "    hasil = (5/9 * (suhu - 32))\n",
        "    print('hasil celcius: ', hasil)\n",
        "\n",
        "konversi_suhu_fahrenheit('kelvin', 500)\n",
        "konversi_suhu_fahrenheit('celcius', 500)"
      ],
      "metadata": {
        "colab": {
          "base_uri": "https://localhost:8080/"
        },
        "id": "BsWxTOzGMGA3",
        "outputId": "e58a3291-2174-45bb-d6dc-7b74d914c1c6"
      },
      "execution_count": 5,
      "outputs": [
        {
          "output_type": "stream",
          "name": "stdout",
          "text": [
            "hasil kelvin:  932.0\n",
            "hasil celcius:  260.0\n"
          ]
        }
      ]
    },
    {
      "cell_type": "code",
      "source": [
        "def konversi_suhu_dari_fahrenheit(mode, suhu):\n",
        "  # rumus dari fahrenheint ke kelvin\n",
        "  if mode == 'kelvin':\n",
        "    hasil = (suhu - 32) * 5/9 + 273.15\n",
        "    print('hasil: ', hasil)\n",
        "  # rumus dari fahrenheint ke celcius\n",
        "  elif mode == 'celcius':\n",
        "    hasil = suhu - 32 * 5/9 \n",
        "\n",
        "konversi_suhu_dari_fahrenheit('kelvin', 32)"
      ],
      "metadata": {
        "colab": {
          "base_uri": "https://localhost:8080/"
        },
        "id": "sMePRahpOAy4",
        "outputId": "8c362935-5f61-4a9b-e71a-7d4c46b2ec3e"
      },
      "execution_count": 6,
      "outputs": [
        {
          "output_type": "stream",
          "name": "stdout",
          "text": [
            "hasil:  273.15\n"
          ]
        }
      ]
    }
  ]
}